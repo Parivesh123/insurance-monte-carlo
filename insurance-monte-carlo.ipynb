{
 "cells": [
  {
   "cell_type": "markdown",
   "metadata": {},
   "source": [
    "# Car Insurance Profit/Loss, a Monte Carlo Simulation"
   ]
  },
  {
   "cell_type": "code",
   "execution_count": 40,
   "metadata": {},
   "outputs": [],
   "source": [
    "import random\n",
    "import matplotlib.pyplot as plt\n",
    "from tabulate import tabulate"
   ]
  },
  {
   "cell_type": "markdown",
   "metadata": {},
   "source": [
    "# Model Parameters"
   ]
  },
  {
   "cell_type": "code",
   "execution_count": 41,
   "metadata": {
    "scrolled": false
   },
   "outputs": [],
   "source": [
    "# Figures taken from - https://www.iii.org/fact-statistic/facts-statistics-auto-insurance\n",
    "modelParams = {\n",
    "    \"balance\": 0,  # first number is starting funds if you start with money in the model or not\n",
    "    \"memberCount\": 10000,  # how many members do you have in the model\n",
    "    \"memberGrowthRate\": 1.01,  # how much does member count grow each month (modest 5 percent)\n",
    "    \"monthsToModel\": 12,  # how many months should the model run\n",
    "    \"annualInjuryRate\": 1.10,  # customer percentage making personal injury claim\n",
    "    \"annualPropertyDamageRate\": 4.0,  # customer percentage making property damage claim\n",
    "    \"annualCollisionRate\": 6.15,  # customer percentage making collision damage claim\n",
    "    \"annualComprehensiveRate\": 2.85  # customer percentage making comprehensive claim\n",
    "}"
   ]
  },
  {
   "cell_type": "markdown",
   "metadata": {},
   "source": [
    "# Model Functions"
   ]
  },
  {
   "cell_type": "code",
   "execution_count": 42,
   "metadata": {},
   "outputs": [],
   "source": [
    "def generatememberlist(n):\n",
    "    '''Generates list of members. Members are represented as a number which is their payment per month.\n",
    "    They pay between $45 and $75 (based on their car / age etc).\n",
    "    '''\n",
    "    memberlist = []\n",
    "    for x in range(0, n):\n",
    "        memberlist.append(random.randint(55, 85))\n",
    "    return memberlist\n",
    "\n",
    "\n",
    "def chanceofclaimpermonth(anuualclaimpercent):\n",
    "    '''Rolls the dice on a claim occuring and triggers based on the\n",
    "    probabilities listed in https://www.iii.org/fact-statistic/facts-statistics-auto-insurance'''\n",
    "    claimpermonth = int((anuualclaimpercent / 12) * 100)\n",
    "\n",
    "    roll = random.randint(1, 10000)\n",
    "\n",
    "    if roll <= claimpermonth:\n",
    "        # your customer made a claim\n",
    "        return True\n",
    "    elif roll > claimpermonth:\n",
    "        # your customer didn't make a claim\n",
    "        return False\n",
    "\n",
    "\n",
    "def generateclaim(claim):\n",
    "    '''#generates a claims amount\n",
    "    converted to aud, then removes 20% for\n",
    "    excess and returns this claim figure'''\n",
    "\n",
    "    # roughly 20% excess for each claim. Or $500. Whichever is more.\n",
    "    if claim - (claim / 20 * 100) < 500:\n",
    "        claim = (claim - 500)\n",
    "        return claim\n",
    "\n",
    "    claimminusexcess = claim - (claim / 20 * 100)\n",
    "\n",
    "    return claimminusexcess\n",
    "\n",
    "\n",
    "def carsim(modelParams):\n",
    "    balance = modelParams[\"balance\"]\n",
    "    memberCount = modelParams[\"memberCount\"]\n",
    "    memberGrowthRate = modelParams[\"memberGrowthRate\"]\n",
    "    monthsToModel = modelParams[\"monthsToModel\"]\n",
    "    annualInjuryRate = modelParams[\"annualInjuryRate\"]\n",
    "    annualPropertyDamageRate = modelParams[\"annualPropertyDamageRate\"]\n",
    "    annualCollisionRate = modelParams[\"annualCollisionRate\"]\n",
    "    annualComprehensiveRate = modelParams[\"annualComprehensiveRate\"]\n",
    "\n",
    "    print(\"~Rory Insurance MC Model Test~\")\n",
    "    print(\"_________\")\n",
    "    print(\"\\nStarting with funds of:\", balance, \"\\nStarting member count of:\", memberCount, \"\\nRunning for a total of;\",\n",
    "          monthsToModel, \"months\")\n",
    "    print(\"_________\")\n",
    "\n",
    "    wX = []\n",
    "    vY = []\n",
    "\n",
    "    resultslist = []\n",
    "    monthlylist = []\n",
    "\n",
    "    removefromfunds = 0\n",
    "    currentmonth = 1\n",
    "    wX.append(currentmonth)\n",
    "    vY.append(balance)\n",
    "    plt.plot(wX, vY)\n",
    "\n",
    "    monthlyclaimcounter = 0\n",
    "\n",
    "    while currentmonth <= monthsToModel:\n",
    "        monthlyclaimcountervalue = 0\n",
    "        monthlyrevenue = 0\n",
    "        claimspermonth = 0\n",
    "        monthlyprofit = 0\n",
    "        memberlist = generatememberlist(memberCount)\n",
    "\n",
    "        # generate claim amounts for each member in the list\n",
    "        for x in memberlist:\n",
    "            balance += x\n",
    "            monthlyrevenue += x\n",
    "\n",
    "            claimsAndAmounts = [(annualInjuryRate, 21000),\n",
    "                                (annualPropertyDamageRate, 5024),\n",
    "                                (annualCollisionRate, 4729),\n",
    "                                (annualComprehensiveRate, 1817)]\n",
    "\n",
    "            for claimType in claimsAndAmounts:\n",
    "                if chanceofclaimpermonth(claimType[0]):\n",
    "                    removefromfunds = generateclaim(claimType[1])\n",
    "                    monthlyclaimcountervalue += removefromfunds\n",
    "                    balance -= removefromfunds\n",
    "                    claimspermonth += 1\n",
    "\n",
    "        # trim decimals\n",
    "        balance = int(balance)\n",
    "        monthlyrevenue = int(monthlyrevenue)\n",
    "        monthlyclaimcountervalue = int(monthlyclaimcountervalue)\n",
    "        monthlyprofit = monthlyrevenue - monthlyclaimcountervalue\n",
    "\n",
    "        monthlylist = [currentmonth, \"{:,}\".format(memberCount), \"${:,}\".format(balance),\n",
    "                       \"${:,}\".format(monthlyrevenue), \"${:,}\".format(monthlyclaimcountervalue),\n",
    "                       \"${:,}\".format(monthlyprofit), claimspermonth]\n",
    "        resultslist.append(monthlylist)\n",
    "\n",
    "        # grow members by set monthly growth rate\n",
    "        memberCount *= memberGrowthRate\n",
    "        memberCount = int(memberCount)\n",
    "\n",
    "        print(\"Month\", currentmonth, \"ending funds total\", \"${:,}\".format(balance), \"with Revenue of\",\n",
    "              \"${:,}\".format(monthlyrevenue), \"and losses of:\", \"${:,}\".format(monthlyclaimcountervalue), \"from\",\n",
    "              claimspermonth, \"claims\")\n",
    "        wX.append(currentmonth)\n",
    "        vY.append(balance)\n",
    "        plt.plot(wX, vY)\n",
    "        currentmonth += 1\n",
    "\n",
    "    tabulatedresults = tabulate(resultslist,\n",
    "                                headers=[\"Month\", \"Members\", \"Total Balance\", \"Monthly Revenue\", \"Monthly Losses\",\n",
    "                                         \"Monthly Profit\", \"Claims\"], tablefmt=\"fancy_grid\")\n",
    "\n",
    "    print(tabulatedresults)"
   ]
  },
  {
   "cell_type": "markdown",
   "metadata": {},
   "source": [
    "# Run Model"
   ]
  },
  {
   "cell_type": "code",
   "execution_count": 43,
   "metadata": {
    "scrolled": false
   },
   "outputs": [
    {
     "name": "stdout",
     "output_type": "stream",
     "text": [
      "~Rory Insurance MC Model Test~\n",
      "_________\n",
      "\n",
      "Starting with funds of: 0 \n",
      "Starting member count of: 10000 \n",
      "Running for a total of; 12 months\n",
      "_________\n",
      "Month 1 ending funds total $137,543 with Revenue of $700,210 and losses of: $562,667 from 113 claims\n",
      "Month 2 ending funds total $168,117 with Revenue of $706,597 and losses of: $676,023 from 122 claims\n",
      "Month 3 ending funds total $300,771 with Revenue of $713,579 and losses of: $580,925 from 114 claims\n",
      "Month 4 ending funds total $447,184 with Revenue of $720,811 and losses of: $574,398 from 126 claims\n",
      "Month 5 ending funds total $620,873 with Revenue of $728,794 and losses of: $555,105 from 120 claims\n",
      "Month 6 ending funds total $771,749 with Revenue of $735,883 and losses of: $585,007 from 123 claims\n",
      "Month 7 ending funds total $941,478 with Revenue of $742,683 and losses of: $572,954 from 117 claims\n",
      "Month 8 ending funds total $1,098,771 with Revenue of $750,299 and losses of: $593,006 from 131 claims\n",
      "Month 9 ending funds total $1,237,741 with Revenue of $759,197 and losses of: $620,227 from 122 claims\n",
      "Month 10 ending funds total $1,315,084 with Revenue of $765,852 and losses of: $688,509 from 147 claims\n",
      "Month 11 ending funds total $1,378,157 with Revenue of $772,410 and losses of: $709,337 from 136 claims\n",
      "Month 12 ending funds total $1,557,302 with Revenue of $780,295 and losses of: $601,150 from 132 claims\n",
      "╒═════════╤═══════════╤═════════════════╤═══════════════════╤══════════════════╤══════════════════╤══════════╕\n",
      "│   Month │ Members   │ Total Balance   │ Monthly Revenue   │ Monthly Losses   │ Monthly Profit   │   Claims │\n",
      "╞═════════╪═══════════╪═════════════════╪═══════════════════╪══════════════════╪══════════════════╪══════════╡\n",
      "│       1 │ 10,000    │ $137,543        │ $700,210          │ $562,667         │ $137,543         │      113 │\n",
      "├─────────┼───────────┼─────────────────┼───────────────────┼──────────────────┼──────────────────┼──────────┤\n",
      "│       2 │ 10,100    │ $168,117        │ $706,597          │ $676,023         │ $30,574          │      122 │\n",
      "├─────────┼───────────┼─────────────────┼───────────────────┼──────────────────┼──────────────────┼──────────┤\n",
      "│       3 │ 10,201    │ $300,771        │ $713,579          │ $580,925         │ $132,654         │      114 │\n",
      "├─────────┼───────────┼─────────────────┼───────────────────┼──────────────────┼──────────────────┼──────────┤\n",
      "│       4 │ 10,303    │ $447,184        │ $720,811          │ $574,398         │ $146,413         │      126 │\n",
      "├─────────┼───────────┼─────────────────┼───────────────────┼──────────────────┼──────────────────┼──────────┤\n",
      "│       5 │ 10,406    │ $620,873        │ $728,794          │ $555,105         │ $173,689         │      120 │\n",
      "├─────────┼───────────┼─────────────────┼───────────────────┼──────────────────┼──────────────────┼──────────┤\n",
      "│       6 │ 10,510    │ $771,749        │ $735,883          │ $585,007         │ $150,876         │      123 │\n",
      "├─────────┼───────────┼─────────────────┼───────────────────┼──────────────────┼──────────────────┼──────────┤\n",
      "│       7 │ 10,615    │ $941,478        │ $742,683          │ $572,954         │ $169,729         │      117 │\n",
      "├─────────┼───────────┼─────────────────┼───────────────────┼──────────────────┼──────────────────┼──────────┤\n",
      "│       8 │ 10,721    │ $1,098,771      │ $750,299          │ $593,006         │ $157,293         │      131 │\n",
      "├─────────┼───────────┼─────────────────┼───────────────────┼──────────────────┼──────────────────┼──────────┤\n",
      "│       9 │ 10,828    │ $1,237,741      │ $759,197          │ $620,227         │ $138,970         │      122 │\n",
      "├─────────┼───────────┼─────────────────┼───────────────────┼──────────────────┼──────────────────┼──────────┤\n",
      "│      10 │ 10,936    │ $1,315,084      │ $765,852          │ $688,509         │ $77,343          │      147 │\n",
      "├─────────┼───────────┼─────────────────┼───────────────────┼──────────────────┼──────────────────┼──────────┤\n",
      "│      11 │ 11,045    │ $1,378,157      │ $772,410          │ $709,337         │ $63,073          │      136 │\n",
      "├─────────┼───────────┼─────────────────┼───────────────────┼──────────────────┼──────────────────┼──────────┤\n",
      "│      12 │ 11,155    │ $1,557,302      │ $780,295          │ $601,150         │ $179,145         │      132 │\n",
      "╘═════════╧═══════════╧═════════════════╧═══════════════════╧══════════════════╧══════════════════╧══════════╛\n"
     ]
    },
    {
     "data": {
      "image/png": "[encoded data removed]",
      "text/plain": [
       "<Figure size 432x288 with 1 Axes>"
      ]
     },
     "metadata": {},
     "output_type": "display_data"
    }
   ],
   "source": [
    "carsim(modelParams)\n",
    "\n",
    "plt.ylabel(\"Company Balance\")\n",
    "plt.xlabel(\"Month Number\")\n",
    "plt.style.use('fivethirtyeight')\n",
    "\n",
    "plt.show()"
   ]
  },
  {
   "cell_type": "markdown",
   "metadata": {},
   "source": [
    "#### Rory GS 2019\n",
    "rorygartonsmith@gmail.com"
   ]
  }
 ],
 "metadata": {
  "kernelspec": {
   "display_name": "Python 3",
   "language": "python",
   "name": "python3"
  },
  "language_info": {
   "codemirror_mode": {
    "name": "ipython",
    "version": 3
   },
   "file_extension": ".py",
   "mimetype": "text/x-python",
   "name": "python",
   "nbconvert_exporter": "python",
   "pygments_lexer": "ipython3",
   "version": "3.7.1"
  }
 },
 "nbformat": 4,
 "nbformat_minor": 2
}
